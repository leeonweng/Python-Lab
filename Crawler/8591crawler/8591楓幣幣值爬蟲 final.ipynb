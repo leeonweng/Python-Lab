{
 "cells": [
  {
   "cell_type": "code",
   "execution_count": 1,
   "metadata": {},
   "outputs": [],
   "source": [
    "%matplotlib inline\n",
    "import requests as re\n",
    "#import numpy as np\n",
    "import pandas as pd\n",
    "#import matplotlib.pyplot as plt\n",
    "import sys\n",
    "#import time\n",
    "from bs4 import BeautifulSoup as bs\n",
    "url ='https://www.8591.com.tw/mallList-list.html?&group=1&searchType=0&priceSort=0&ratios=0&searchGame=859&searchServer=0&firstRow=0&totalRows=459'\n",
    "header ={\n",
    "    'User-Agent':\n",
    "    'Mozilla/5.0 (Windows NT 10.0; Win64; x64) AppleWebKit/537.36 (KHTML, like Gecko) Chrome/72.0.3626.121 Safari/537.36'\n",
    "    }\n",
    "\n",
    "def get_soup(url):\n",
    "    soups =[]\n",
    "    try:\n",
    "        for page in range(0,30):\n",
    "            html = re.get('https://www.8591.com.tw/mallList-list.html?&group=1&searchType=0&priceSort=0&ratios=0&searchGame=859&searchServer=0&firstRow=' + str(page) + '&totalRows=459',\n",
    "                         headers = header)\n",
    "            if html.status_code == 200:\n",
    "                sps = bs(html.text,'lxml')\n",
    "                sps.encoding= 'utf-8'\n",
    "                tit = sps.find_all('a')\n",
    "                for ttss in tit:\n",
    "                    titless = ttss.get('title')\n",
    "                    if titless == None:\n",
    "                        not print\n",
    "                    else:\n",
    "                        soups.append(titless)\n",
    "#                        time.sleep(1)\n",
    "            else:\n",
    "                print('網站無法讀取！')\n",
    "        return soups\n",
    "        for df in soups[:]:\n",
    "            if df[4] == ('='):\n",
    "                print(df)\n",
    "            elif df[5] == ('='):\n",
    "                print(df)\n",
    "            elif df[6] == ('='):\n",
    "                print(df)\n",
    "            elif df[7] == ('='):\n",
    "                print(df)\n",
    "            else:\n",
    "                not print\n",
    "\n",
    "    except Exception as e:\n",
    "        print(e)\n",
    "        sys.exit()"
   ]
  },
  {
   "cell_type": "code",
   "execution_count": 2,
   "metadata": {},
   "outputs": [
    {
     "name": "stdout",
     "output_type": "stream",
     "text": [
      "'NoneType' object is not subscriptable\n"
     ]
    },
    {
     "ename": "SystemExit",
     "evalue": "",
     "output_type": "error",
     "traceback": [
      "An exception has occurred, use %tb to see the full traceback.\n",
      "\u001b[1;31mSystemExit\u001b[0m\n"
     ]
    },
    {
     "name": "stderr",
     "output_type": "stream",
     "text": [
      "C:\\Users\\User\\Anaconda3\\lib\\site-packages\\IPython\\core\\interactiveshell.py:2971: UserWarning: To exit: use 'exit', 'quit', or Ctrl-D.\n",
      "  warn(\"To exit: use 'exit', 'quit', or Ctrl-D.\", stacklevel=1)\n"
     ]
    }
   ],
   "source": [
    "get_soup(url)"
   ]
  },
  {
   "cell_type": "code",
   "execution_count": null,
   "metadata": {},
   "outputs": [],
   "source": [
    "df1 = pd.DataFrame(get_soup(url))"
   ]
  }
 ],
 "metadata": {
  "kernelspec": {
   "display_name": "Python 3",
   "language": "python",
   "name": "python3"
  },
  "language_info": {
   "codemirror_mode": {
    "name": "ipython",
    "version": 3
   },
   "file_extension": ".py",
   "mimetype": "text/x-python",
   "name": "python",
   "nbconvert_exporter": "python",
   "pygments_lexer": "ipython3",
   "version": "3.6.5"
  }
 },
 "nbformat": 4,
 "nbformat_minor": 2
}
