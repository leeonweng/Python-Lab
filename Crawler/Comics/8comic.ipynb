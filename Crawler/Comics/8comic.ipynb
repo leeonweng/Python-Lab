{
 "cells": [
  {
   "cell_type": "code",
   "execution_count": 15,
   "metadata": {},
   "outputs": [],
   "source": [
    "import requests as re\n",
    "import pandas as pd\n",
    "import sys\n",
    "from bs4 import BeautifulSoup as bs"
   ]
  },
  {
   "cell_type": "code",
   "execution_count": 16,
   "metadata": {},
   "outputs": [],
   "source": [
    "url = 'https://comicbus.com/html/103.html'\n",
    "headers = {'User-Agent':\n",
    "           'Mozilla/5.0 (Windows NT 10.0; Win64; x64) AppleWebKit/537.36 (KHTML, like Gecko) Chrome/72.0.3626.121 Safari/537.36'\n",
    "          }"
   ]
  },
  {
   "cell_type": "code",
   "execution_count": 45,
   "metadata": {},
   "outputs": [],
   "source": [
    "def get_index(url):\n",
    "    df = []\n",
    "    try:\n",
    "        r = re.get(url, headers = headers)\n",
    "        r.encoding = 'big5'\n",
    "        sp = bs(r.text, 'html.parser')\n",
    "        #第x卷的href都是#,以至於要另外打url下來\n",
    "        for page in range(1,3):\n",
    "            url2 = 'https://v.comicbus.com/online/comic-103.html?ch=' + str(page)\n",
    "            for pp in range(1, 30):\n",
    "                ur = 'https://v.comicbus.com/online/comic-103.html?ch=' + str(page) + '-' + str(pp)\n",
    "#                rr = re.get(ur, headers = headers)\n",
    "#                spp = bs(rr.text, 'html.parser')\n",
    "#                img = spp.select('.jpg')\n",
    "#                print(img)\n",
    "    except Exception as e:\n",
    "        print(e)\n",
    "        sys.exit()"
   ]
  },
  {
   "cell_type": "code",
   "execution_count": 46,
   "metadata": {},
   "outputs": [],
   "source": [
    "get_index(url)"
   ]
  },
  {
   "cell_type": "code",
   "execution_count": null,
   "metadata": {},
   "outputs": [],
   "source": []
  }
 ],
 "metadata": {
  "kernelspec": {
   "display_name": "Python 3",
   "language": "python",
   "name": "python3"
  },
  "language_info": {
   "codemirror_mode": {
    "name": "ipython",
    "version": 3
   },
   "file_extension": ".py",
   "mimetype": "text/x-python",
   "name": "python",
   "nbconvert_exporter": "python",
   "pygments_lexer": "ipython3",
   "version": "3.6.5"
  }
 },
 "nbformat": 4,
 "nbformat_minor": 2
}
