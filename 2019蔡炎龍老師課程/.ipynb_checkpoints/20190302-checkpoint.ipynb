{
 "cells": [
  {
   "cell_type": "code",
   "execution_count": 1,
   "metadata": {},
   "outputs": [
    {
     "data": {
      "text/plain": [
       "2"
      ]
     },
     "execution_count": 1,
     "metadata": {},
     "output_type": "execute_result"
    }
   ],
   "source": [
    "1+1"
   ]
  },
  {
   "cell_type": "code",
   "execution_count": 2,
   "metadata": {},
   "outputs": [
    {
     "data": {
      "text/plain": [
       "137"
      ]
     },
     "execution_count": 2,
     "metadata": {},
     "output_type": "execute_result"
    }
   ],
   "source": [
    "2+9**2+54"
   ]
  },
  {
   "cell_type": "code",
   "execution_count": 3,
   "metadata": {},
   "outputs": [
    {
     "data": {
      "text/plain": [
       "2.3333333333333335"
      ]
     },
     "execution_count": 3,
     "metadata": {},
     "output_type": "execute_result"
    }
   ],
   "source": [
    "7/3"
   ]
  },
  {
   "cell_type": "code",
   "execution_count": 4,
   "metadata": {},
   "outputs": [
    {
     "data": {
      "text/plain": [
       "15000.0"
      ]
     },
     "execution_count": 4,
     "metadata": {},
     "output_type": "execute_result"
    }
   ],
   "source": [
    "2000*0.05*150"
   ]
  },
  {
   "cell_type": "code",
   "execution_count": 5,
   "metadata": {},
   "outputs": [
    {
     "name": "stdout",
     "output_type": "stream",
     "text": [
      "請輸入您的姓名00\n",
      "請輸入您的年齡13\n",
      "您好！我是00，今年13歲。\n"
     ]
    }
   ],
   "source": [
    "name = input('請輸入您的姓名')\n",
    "age = input('請輸入您的年齡')\n",
    "L = '您好！我是{}，今年{}歲。'.format(name,age)\n",
    "print(L)"
   ]
  },
  {
   "cell_type": "code",
   "execution_count": 6,
   "metadata": {},
   "outputs": [
    {
     "name": "stdout",
     "output_type": "stream",
     "text": [
      "你來看這邊\n",
      "這裡\n",
      "下面\n",
      "\n",
      "\n",
      "對!就是這!\n",
      "\n"
     ]
    }
   ],
   "source": [
    "message = '''你來看這邊\n",
    "這裡\n",
    "下面\n",
    "\n",
    "\n",
    "對!就是這!\n",
    "'''\n",
    "\n",
    "print(message)"
   ]
  },
  {
   "cell_type": "code",
   "execution_count": 7,
   "metadata": {
    "scrolled": true
   },
   "outputs": [
    {
     "data": {
      "text/plain": [
       "'你來看這邊\\n這裡\\n下面\\n\\n\\n對!就是這!\\n'"
      ]
     },
     "execution_count": 7,
     "metadata": {},
     "output_type": "execute_result"
    }
   ],
   "source": [
    "message"
   ]
  },
  {
   "cell_type": "code",
   "execution_count": 8,
   "metadata": {},
   "outputs": [
    {
     "name": "stdout",
     "output_type": "stream",
     "text": [
      "美金價格：4.99\n",
      "換算台幣為：151.5463元\n"
     ]
    }
   ],
   "source": [
    "m = input(\"美金價格：\")\n",
    "N = float(m) * 30.37\n",
    "print('換算台幣為：'+str(N)+'元')"
   ]
  },
  {
   "cell_type": "code",
   "execution_count": 9,
   "metadata": {},
   "outputs": [
    {
     "name": "stdout",
     "output_type": "stream",
     "text": [
      ">>QQ\n",
      "拍拍\n"
     ]
    }
   ],
   "source": [
    "#拍拍機器人\n",
    "message = input('>>')\n",
    "print('拍拍')"
   ]
  },
  {
   "cell_type": "code",
   "execution_count": 10,
   "metadata": {},
   "outputs": [
    {
     "name": "stdout",
     "output_type": "stream",
     "text": [
      "[1, 3, 5, 7, 9, 2, 4, 6, 8, 10]\n",
      "[1, 3, 5, 7, 9, 1, 3, 5, 7, 9]\n"
     ]
    }
   ],
   "source": [
    "A = [1,3,5,7,9]\n",
    "B = [2,4,6,8,10]\n",
    "print(A+B)\n",
    "print(2*A)"
   ]
  },
  {
   "cell_type": "code",
   "execution_count": 11,
   "metadata": {},
   "outputs": [
    {
     "data": {
      "text/plain": [
       "True"
      ]
     },
     "execution_count": 11,
     "metadata": {},
     "output_type": "execute_result"
    }
   ],
   "source": [
    "2 <= 3"
   ]
  },
  {
   "cell_type": "code",
   "execution_count": 12,
   "metadata": {},
   "outputs": [],
   "source": [
    "a = 87"
   ]
  },
  {
   "cell_type": "code",
   "execution_count": 13,
   "metadata": {},
   "outputs": [
    {
     "data": {
      "text/plain": [
       "True"
      ]
     },
     "execution_count": 13,
     "metadata": {},
     "output_type": "execute_result"
    }
   ],
   "source": [
    "a > 50"
   ]
  },
  {
   "cell_type": "code",
   "execution_count": 14,
   "metadata": {},
   "outputs": [
    {
     "data": {
      "text/plain": [
       "True"
      ]
     },
     "execution_count": 14,
     "metadata": {},
     "output_type": "execute_result"
    }
   ],
   "source": [
    "a != 50"
   ]
  },
  {
   "cell_type": "code",
   "execution_count": 15,
   "metadata": {},
   "outputs": [
    {
     "data": {
      "text/plain": [
       "False"
      ]
     },
     "execution_count": 15,
     "metadata": {},
     "output_type": "execute_result"
    }
   ],
   "source": [
    "a != 87"
   ]
  },
  {
   "cell_type": "code",
   "execution_count": 16,
   "metadata": {},
   "outputs": [
    {
     "data": {
      "text/plain": [
       "True"
      ]
     },
     "execution_count": 16,
     "metadata": {},
     "output_type": "execute_result"
    }
   ],
   "source": [
    "\"Z\" > \"B\""
   ]
  },
  {
   "cell_type": "code",
   "execution_count": 17,
   "metadata": {},
   "outputs": [
    {
     "data": {
      "text/plain": [
       "True"
      ]
     },
     "execution_count": 17,
     "metadata": {},
     "output_type": "execute_result"
    }
   ],
   "source": [
    "(a>50) and (a<100)"
   ]
  },
  {
   "cell_type": "code",
   "execution_count": 18,
   "metadata": {},
   "outputs": [
    {
     "data": {
      "text/plain": [
       "False"
      ]
     },
     "execution_count": 18,
     "metadata": {},
     "output_type": "execute_result"
    }
   ],
   "source": [
    "(a>50) and (a<86)"
   ]
  },
  {
   "cell_type": "code",
   "execution_count": 19,
   "metadata": {},
   "outputs": [
    {
     "data": {
      "text/plain": [
       "True"
      ]
     },
     "execution_count": 19,
     "metadata": {},
     "output_type": "execute_result"
    }
   ],
   "source": [
    "(a>50) or (a<86)"
   ]
  },
  {
   "cell_type": "code",
   "execution_count": 20,
   "metadata": {},
   "outputs": [],
   "source": [
    "s = 0"
   ]
  },
  {
   "cell_type": "code",
   "execution_count": 21,
   "metadata": {},
   "outputs": [],
   "source": [
    "s = s + 1"
   ]
  },
  {
   "cell_type": "code",
   "execution_count": 22,
   "metadata": {},
   "outputs": [
    {
     "data": {
      "text/plain": [
       "1"
      ]
     },
     "execution_count": 22,
     "metadata": {},
     "output_type": "execute_result"
    }
   ],
   "source": [
    "s"
   ]
  },
  {
   "cell_type": "code",
   "execution_count": 23,
   "metadata": {},
   "outputs": [],
   "source": [
    "s = s + 1"
   ]
  },
  {
   "cell_type": "code",
   "execution_count": 24,
   "metadata": {},
   "outputs": [
    {
     "data": {
      "text/plain": [
       "2"
      ]
     },
     "execution_count": 24,
     "metadata": {},
     "output_type": "execute_result"
    }
   ],
   "source": [
    "s"
   ]
  },
  {
   "cell_type": "code",
   "execution_count": 25,
   "metadata": {},
   "outputs": [
    {
     "name": "stdout",
     "output_type": "stream",
     "text": [
      "*\n",
      "**\n",
      "***\n",
      "****\n",
      "*****\n",
      "******\n",
      "*******\n",
      "********\n",
      "*********\n"
     ]
    }
   ],
   "source": [
    "S = 1\n",
    "while S<10:\n",
    "    print('*'*S)\n",
    "    S = S+1"
   ]
  },
  {
   "cell_type": "code",
   "execution_count": null,
   "metadata": {},
   "outputs": [
    {
     "name": "stdout",
     "output_type": "stream",
     "text": [
      ">>QQ\n",
      "拍拍\n",
      ">>我要bye了\n",
      "拍拍\n"
     ]
    }
   ],
   "source": [
    "message = \"\"\n",
    "while message != \"bye\":\n",
    "    message = input(\">>\")\n",
    "    print('拍拍')"
   ]
  },
  {
   "cell_type": "code",
   "execution_count": 27,
   "metadata": {},
   "outputs": [
    {
     "name": "stdout",
     "output_type": "stream",
     "text": [
      "請輸入美金價格:4.89\n",
      "4.89折合台幣為148.5093元\n"
     ]
    }
   ],
   "source": [
    "nt = input('請輸入美金價格:')\n",
    "m = float(nt)\n",
    "print('{}折合台幣為{}元'.format(m,m*30.37))"
   ]
  },
  {
   "cell_type": "code",
   "execution_count": 28,
   "metadata": {},
   "outputs": [],
   "source": [
    "def square(x):\n",
    "    return x**2 #多使用return 非 print"
   ]
  },
  {
   "cell_type": "code",
   "execution_count": 29,
   "metadata": {},
   "outputs": [
    {
     "data": {
      "text/plain": [
       "9"
      ]
     },
     "execution_count": 29,
     "metadata": {},
     "output_type": "execute_result"
    }
   ],
   "source": [
    "square(3)"
   ]
  },
  {
   "cell_type": "code",
   "execution_count": 30,
   "metadata": {},
   "outputs": [
    {
     "data": {
      "text/plain": [
       "121"
      ]
     },
     "execution_count": 30,
     "metadata": {},
     "output_type": "execute_result"
    }
   ],
   "source": [
    "square(11)"
   ]
  },
  {
   "cell_type": "code",
   "execution_count": 31,
   "metadata": {},
   "outputs": [],
   "source": [
    "def 平方(甲):\n",
    "    print(甲**2)"
   ]
  },
  {
   "cell_type": "code",
   "execution_count": 32,
   "metadata": {},
   "outputs": [
    {
     "name": "stdout",
     "output_type": "stream",
     "text": [
      "16\n"
     ]
    }
   ],
   "source": [
    "平方(4)"
   ]
  },
  {
   "cell_type": "code",
   "execution_count": 33,
   "metadata": {},
   "outputs": [
    {
     "name": "stdout",
     "output_type": "stream",
     "text": [
      "625\n"
     ]
    }
   ],
   "source": [
    "平方(25)"
   ]
  },
  {
   "cell_type": "code",
   "execution_count": 34,
   "metadata": {},
   "outputs": [],
   "source": [
    "a = square(20)"
   ]
  },
  {
   "cell_type": "code",
   "execution_count": 35,
   "metadata": {},
   "outputs": [
    {
     "data": {
      "text/plain": [
       "400"
      ]
     },
     "execution_count": 35,
     "metadata": {},
     "output_type": "execute_result"
    }
   ],
   "source": [
    "a"
   ]
  },
  {
   "cell_type": "code",
   "execution_count": 36,
   "metadata": {},
   "outputs": [
    {
     "name": "stdout",
     "output_type": "stream",
     "text": [
      "144\n"
     ]
    }
   ],
   "source": [
    "b = 平方(12)"
   ]
  },
  {
   "cell_type": "code",
   "execution_count": 37,
   "metadata": {},
   "outputs": [],
   "source": [
    "b"
   ]
  },
  {
   "cell_type": "code",
   "execution_count": 38,
   "metadata": {},
   "outputs": [],
   "source": [
    "def say_hi(name,place):\n",
    "    message = '您好！我是{}，來自{}。'.format(name,place)\n",
    "    return message"
   ]
  },
  {
   "cell_type": "code",
   "execution_count": 39,
   "metadata": {},
   "outputs": [
    {
     "data": {
      "text/plain": [
       "'您好！我是王小白，來自金門。'"
      ]
     },
     "execution_count": 39,
     "metadata": {},
     "output_type": "execute_result"
    }
   ],
   "source": [
    "say_hi('王小白','金門')"
   ]
  },
  {
   "cell_type": "code",
   "execution_count": 40,
   "metadata": {},
   "outputs": [
    {
     "data": {
      "text/plain": [
       "[0, 1, 2, 3, 4, 5, 6, 7, 8, 9]"
      ]
     },
     "execution_count": 40,
     "metadata": {},
     "output_type": "execute_result"
    }
   ],
   "source": [
    "list(range(10))"
   ]
  },
  {
   "cell_type": "code",
   "execution_count": 41,
   "metadata": {},
   "outputs": [
    {
     "data": {
      "text/plain": [
       "[3, 4, 5, 6, 7, 8, 9, 10, 11, 12]"
      ]
     },
     "execution_count": 41,
     "metadata": {},
     "output_type": "execute_result"
    }
   ],
   "source": [
    "list(range(3, 13))"
   ]
  },
  {
   "cell_type": "code",
   "execution_count": 42,
   "metadata": {},
   "outputs": [
    {
     "data": {
      "text/plain": [
       "['a', 'b', 'c', 'd', 'e', 'f']"
      ]
     },
     "execution_count": 42,
     "metadata": {},
     "output_type": "execute_result"
    }
   ],
   "source": [
    "list('abcdef')"
   ]
  },
  {
   "cell_type": "code",
   "execution_count": 43,
   "metadata": {},
   "outputs": [],
   "source": [
    "L = [1,3,5,7]"
   ]
  },
  {
   "cell_type": "code",
   "execution_count": 44,
   "metadata": {},
   "outputs": [
    {
     "name": "stdout",
     "output_type": "stream",
     "text": [
      "1\n",
      "3\n",
      "5\n",
      "7\n"
     ]
    }
   ],
   "source": [
    "for i in L:\n",
    "    print(i)"
   ]
  },
  {
   "cell_type": "code",
   "execution_count": 45,
   "metadata": {},
   "outputs": [
    {
     "name": "stdout",
     "output_type": "stream",
     "text": [
      "1\n",
      "4\n",
      "9\n",
      "16\n",
      "25\n",
      "36\n",
      "49\n",
      "64\n",
      "81\n",
      "100\n",
      "121\n",
      "144\n",
      "169\n",
      "196\n",
      "225\n",
      "256\n",
      "289\n",
      "324\n",
      "361\n",
      "400\n",
      "441\n",
      "484\n",
      "529\n",
      "576\n",
      "625\n"
     ]
    }
   ],
   "source": [
    "for i in range(1,26):\n",
    "    print(i**2)"
   ]
  },
  {
   "cell_type": "code",
   "execution_count": 46,
   "metadata": {},
   "outputs": [
    {
     "name": "stdout",
     "output_type": "stream",
     "text": [
      "okay!\n"
     ]
    }
   ],
   "source": [
    "a = 10\n",
    "if a < 5:\n",
    "    print(\"that's all\")\n",
    "elif a >= 10:\n",
    "    print(\"okay!\")\n",
    "else:\n",
    "    print(\"good bye!\")"
   ]
  },
  {
   "cell_type": "code",
   "execution_count": 47,
   "metadata": {},
   "outputs": [
    {
     "name": "stdout",
     "output_type": "stream",
     "text": [
      ">>我覺得有點悲傷\n",
      "過來我拍拍!\n",
      ">>我好難受\n",
      "沒事沒事我秀秀!\n",
      ">>我想哭\n",
      "讓我抱一下!\n",
      ">>真的很難過\n",
      "拍拍不難過了!\n",
      ">>我好痛苦阿\n",
      "一切都會變好的!\n",
      ">>你走開\n",
      "祝你愉快~\n",
      ">>再見!\n",
      "祝你愉快~\n",
      ">>掰掰\n",
      "祝你愉快~\n",
      ">>嗨\n",
      "祝你愉快~\n",
      ">>再見\n",
      "祝你愉快~\n"
     ]
    }
   ],
   "source": [
    "message=\"\"\n",
    "while True:\n",
    "    message = input(\"怎麼了?\\n>>\")\n",
    "    P = ('過來我拍拍!')\n",
    "    O = ('過來我秀秀!')\n",
    "    H = ('過來我抱一下!')\n",
    "    PP = ('拍拍不難過了')\n",
    "    E = ('一切都會變好的!')\n",
    "    A = ('有任何的不愉快歡迎你再來!bye bye')\n",
    "    if (\"悲傷\" in message):\n",
    "        print(P)\n",
    "    elif(\"難受\" in message):\n",
    "        print(O)\n",
    "    elif(\"想哭\" in message):\n",
    "        print(H)\n",
    "    elif(\"難過\" in message):\n",
    "        print(PP)\n",
    "    elif(\"痛苦\" in message):\n",
    "        print(E)\n",
    "    elif(\"心碎\" in message):\n",
    "        print(E)\n",
    "    elif(\"再見\" in message):\n",
    "         print(A)\n",
    "         break\n",
    "    elif(\"BYE\" in message):\n",
    "         print(A)\n",
    "         break\n",
    "    elif(\"掰\" in message):\n",
    "         print(A)\n",
    "         break\n",
    "    elif(\"Bye\" in message):\n",
    "         print(A)\n",
    "         break\n",
    "    elif(\"bye\" in message):\n",
    "         print(A)\n",
    "         break\n",
    "    else:\n",
    "        print(\"祝你愉快~\")"
   ]
  },
  {
   "cell_type": "code",
   "execution_count": 1,
   "metadata": {},
   "outputs": [
    {
     "name": "stdout",
     "output_type": "stream",
     "text": [
      "Populating the interactive namespace from numpy and matplotlib\n"
     ]
    }
   ],
   "source": [
    "%pylab inline"
   ]
  },
  {
   "cell_type": "code",
   "execution_count": 2,
   "metadata": {},
   "outputs": [
    {
     "data": {
      "text/plain": [
       "14"
      ]
     },
     "execution_count": 2,
     "metadata": {},
     "output_type": "execute_result"
    }
   ],
   "source": [
    "randint(3,15)"
   ]
  },
  {
   "cell_type": "code",
   "execution_count": 4,
   "metadata": {},
   "outputs": [
    {
     "name": "stdout",
     "output_type": "stream",
     "text": [
      "     *\n",
      "                                                                        *\n",
      "                                 *\n",
      "                                                  *\n",
      "                      *\n",
      "     *\n",
      "                                                         *\n",
      "                                                 *\n",
      "           *\n",
      "       *\n",
      "       *\n",
      "     *\n",
      "         *\n",
      "                                                          *\n",
      "                                   *\n"
     ]
    }
   ],
   "source": [
    "for i in range(15):\n",
    "    k = randint(1,75)\n",
    "    print(\" \"*k + \"*\")"
   ]
  },
  {
   "cell_type": "code",
   "execution_count": 2,
   "metadata": {},
   "outputs": [
    {
     "name": "stdout",
     "output_type": "stream",
     "text": [
      "請猜一個數字:\n",
      "20\n",
      "你猜錯囉！此數字 <  20.0 請繼續！\n",
      "\n",
      "26\n",
      "換你囉！此數字 <  26.0 請繼續！\n",
      "\n",
      "請猜一個數字:\n",
      "12\n",
      "你猜錯囉！此數字 >  12.0 請繼續！\n",
      "\n",
      "45\n",
      "換你囉！此數字 <  45.0 請繼續！\n",
      "\n",
      "請猜一個數字:\n",
      "10\n",
      "你猜錯囉！此數字 >  10.0 請繼續！\n",
      "\n",
      "14\n",
      "換你囉！此數字 >  14.0 請繼續！\n",
      "\n",
      "請猜一個數字:\n",
      "15\n",
      "你猜錯囉！此數字 >  15.0 請繼續！\n",
      "\n",
      "24\n",
      "換你囉！此數字 <  24.0 請繼續！\n",
      "\n",
      "請猜一個數字:\n",
      "16\n",
      "你輸啦！哈哈哈哈！\n"
     ]
    }
   ],
   "source": [
    "#終極密碼!!\n",
    "k = randint(1,50)\n",
    "n = \"\"\n",
    "while True:\n",
    "    n = input('請猜一個數字:\\n')\n",
    "    if (float(n) == k):\n",
    "        print('你輸啦！哈哈哈哈！')\n",
    "        break\n",
    "    elif (float(n) > k):\n",
    "        print('你猜錯囉！此數字 < ',float(n),'請繼續！\\n')\n",
    "    else :\n",
    "        print('你猜錯囉！此數字 > ',float(n),'請繼續！\\n')\n",
    "        \n",
    "    k2 = randint(1,50)\n",
    "    print(k2)\n",
    "    if (float(k2) == k):\n",
    "        print('恭喜你獲勝了！')\n",
    "        break\n",
    "    elif (float(k2) > k):\n",
    "        print('換你囉！此數字 < ',float(k2),'請繼續！\\n')\n",
    "    else :\n",
    "        print('換你囉！此數字 > ',float(k2),'請繼續！\\n')    \n",
    "    "
   ]
  },
  {
   "cell_type": "code",
   "execution_count": 3,
   "metadata": {},
   "outputs": [
    {
     "name": "stdout",
     "output_type": "stream",
     "text": [
      "9\n",
      "36\n",
      "288\n",
      "2016\n"
     ]
    }
   ],
   "source": [
    "year = 1\n",
    "l = [9,4,8,7]\n",
    "for i in l:\n",
    "    year = year*i\n",
    "    print(year)"
   ]
  },
  {
   "cell_type": "code",
   "execution_count": 4,
   "metadata": {},
   "outputs": [
    {
     "data": {
      "text/plain": [
       "'48'"
      ]
     },
     "execution_count": 4,
     "metadata": {},
     "output_type": "execute_result"
    }
   ],
   "source": [
    "北七 = '9487'\n",
    "北七[1:3]"
   ]
  },
  {
   "cell_type": "code",
   "execution_count": 2,
   "metadata": {},
   "outputs": [],
   "source": [
    "%matplotlib inline\n",
    "import requests as re\n",
    "import numpy as np\n",
    "import pandas as pd\n",
    "import matplotlib.pyplot as plt\n",
    "from bs4 import BeautifulSoup as bs"
   ]
  },
  {
   "cell_type": "code",
   "execution_count": 5,
   "metadata": {},
   "outputs": [],
   "source": [
    "url = 'https://www.8591.com.tw/mallList-list.html?searchGame=859&searchServer=0&searchType=0'\n",
    "res =re.get(url)\n",
    "sp = bs(res.text,'html.parser')\n",
    "all_df = sp.find_all('span', attrs={'class':'ml-item-title'})"
   ]
  },
  {
   "cell_type": "code",
   "execution_count": 6,
   "metadata": {},
   "outputs": [
    {
     "data": {
      "text/plain": [
       "[<span class=\"ml-item-title\">10億楓幣=100元<b>【</b>1<b>:</b>1000萬<b>】</b>▋7頻自由財神旁▋【玩家自售】▋整數直接購買庫存，可開散單▋人在線上不用等</span>,\n",
       " <span class=\"ml-item-title\">10億楓幣=100元<b>【</b>1<b>:</b>1000萬<b>】</b>【光速】安全★快速★可靠★幫開百元散單★最高比值〓24H營業★楓幣來源拍賣</span>,\n",
       " <span class=\"ml-item-title\">10億楓幣=100元<b>【</b>1<b>:</b>1000萬<b>】</b>【光速】安全★快速★可靠★幫開百元散單★最高比值〓24H營業★楓幣來源拍賣</span>,\n",
       " <span class=\"ml-item-title\">9億楓幣=100元<b>【</b>1<b>:</b>900萬<b>】</b>【光速】安全★快速★可靠★幫開百元散單★最高比值〓24H營業★楓幣來源拍賣</span>,\n",
       " <span class=\"ml-item-title\">1億楓幣=100元<b>【</b>1<b>:</b>100萬<b>】</b>【台灣人自售】【火速移交】【絕無BUG幣】【絕非大陸工作室】</span>,\n",
       " <span class=\"ml-item-title\">1億楓幣=100元<b>【</b>1<b>:</b>100萬<b>】</b>「鳳姐專賣」人在可提問~可開非整數~自由市場6頻交易喲~認準保字會員~安全可靠喲</span>,\n",
       " <span class=\"ml-item-title\">1億楓幣=100元<b>【</b>1<b>:</b>100萬<b>】</b>「鳳姐專賣」人在可提問~可開非整數~自由市場6頻交易喲~認準保字會員~安全可靠喲</span>,\n",
       " <span class=\"ml-item-title\">1億楓幣=100元<b>【</b>1<b>:</b>100萬<b>】</b>「鳳姐專賣」人在可提問~可開非整數~自由市場6頻交易喲~認準保字會員~安全可靠喲</span>,\n",
       " <span class=\"ml-item-title\">1億楓幣=100元<b>【</b>1<b>:</b>100萬<b>】</b>「鳳姐專賣」人在可提問~可開非整數~自由市場6頻交易喲~認準保字會員~安全可靠喲</span>,\n",
       " <span class=\"ml-item-title\">1億楓幣=100元<b>【</b>1<b>:</b>100萬<b>】</b>「鳳姐專賣」人在可提問~可開非整數~自由市場6頻交易喲~認準保字會員~安全可靠喲</span>,\n",
       " <span class=\"ml-item-title\">1億楓幣=100元<b>【</b>1<b>:</b>100萬<b>】</b>「鳳姐專賣」人在可提問~可開非整數~自由市場6頻交易喲~認準保字會員~安全可靠喲</span>,\n",
       " <span class=\"ml-item-title\">8億楓幣=100元<b>【</b>1<b>:</b>800萬<b>】</b>人在~快速—庫存=現貨--★楓幣來源拍賣【放心購買】</span>,\n",
       " <span class=\"ml-item-title\">11億楓幣=100元<b>【</b>1<b>:</b>1100萬<b>】</b>【黑媽媽】【付款後7頻自由左邊交易】火速交易.玩家自賣</span>,\n",
       " <span class=\"ml-item-title\">10億楓幣=100元<b>【</b>1<b>:</b>1000萬<b>】</b>玩家自賣快速~7平自由艾格利其旁~另賣星卷提問</span>,\n",
       " <span class=\"ml-item-title\">1億楓幣=100元<b>【</b>1<b>:</b>100萬<b>】</b>《Kay》單在人在免問！高幣值！要搶要快！下標先看內容、來源正當</span>,\n",
       " <span class=\"ml-item-title\">8億楓幣=100元<b>【</b>1<b>:</b>800萬<b>】</b>美爹小額賣幣3平自由交易免問直接下單</span>,\n",
       " <span class=\"ml-item-title\">8億楓幣=100元<b>【</b>1<b>:</b>800萬<b>】</b>🐷玩家自賣🐷自由市場５頻財神左方🐷艾麗亞🐷</span>,\n",
       " <span class=\"ml-item-title\">10億楓幣=100元<b>【</b>1<b>:</b>1000萬<b>】</b>🐷玩家自賣🐷自由市場５頻財神左方🐷普力特🐷</span>,\n",
       " <span class=\"ml-item-title\">10億楓幣=100元<b>【</b>1<b>:</b>1000萬<b>】</b>🐷玩家自賣🐷自由市場５頻財神左方🐷琉德🐷</span>,\n",
       " <span class=\"ml-item-title\">11億楓幣=100元<b>【</b>1<b>:</b>1100萬<b>】</b>🐷玩家自賣🐷自由市場５頻財神左方🐷優伊娜🐷</span>,\n",
       " <span class=\"ml-item-title\">9億楓幣=100元<b>【</b>1<b>:</b>900萬<b>】</b>🐷玩家自賣🐷自由市場５頻財神左方🐷愛麗西亞🐷</span>]"
      ]
     },
     "execution_count": 6,
     "metadata": {},
     "output_type": "execute_result"
    }
   ],
   "source": [
    "all_df"
   ]
  },
  {
   "cell_type": "code",
   "execution_count": null,
   "metadata": {},
   "outputs": [],
   "source": [
    "for tts in all_df:\n",
    "    ti = tts.get({class:'ml-item-title'})"
   ]
  }
 ],
 "metadata": {
  "kernelspec": {
   "display_name": "Python 3",
   "language": "python",
   "name": "python3"
  },
  "language_info": {
   "codemirror_mode": {
    "name": "ipython",
    "version": 3
   },
   "file_extension": ".py",
   "mimetype": "text/x-python",
   "name": "python",
   "nbconvert_exporter": "python",
   "pygments_lexer": "ipython3",
   "version": "3.6.5"
  }
 },
 "nbformat": 4,
 "nbformat_minor": 2
}
